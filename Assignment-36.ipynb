{
 "cells": [
  {
   "cell_type": "code",
   "execution_count": 3,
   "id": "4739ab45-f727-4a57-be86-04aa0ee22647",
   "metadata": {},
   "outputs": [
    {
     "name": "stdout",
     "output_type": "stream",
     "text": [
      "95% confidence interval: (49.02001800772997, 50.97998199227003)\n"
     ]
    }
   ],
   "source": [
    "#1. Calculate the 95% confidence interval for a sample of data with a mean of 50 and a standard deviation of 5 using Python. Interpret the results.\n",
    "\n",
    "#Ans\n",
    "\n",
    "import scipy.stats as stats\n",
    "\n",
    "sample_mean = 50\n",
    "sample_std = 5\n",
    "n = 100  # sample size\n",
    "confidence_level = 0.95\n",
    "\n",
    "# Calculate the margin of error\n",
    "margin_error = stats.norm.ppf((1 + confidence_level) / 2) * (sample_std / (n ** 0.5))\n",
    "\n",
    "# Calculate the confidence interval\n",
    "lower_bound = sample_mean - margin_error\n",
    "upper_bound = sample_mean + margin_error\n",
    "\n",
    "# Print the results\n",
    "print(f\"95% confidence interval: ({lower_bound}, {upper_bound})\")"
   ]
  },
  {
   "cell_type": "code",
   "execution_count": 4,
   "id": "f431120b-c45b-40d3-9b61-808a8ad0a7e0",
   "metadata": {},
   "outputs": [
    {
     "name": "stdout",
     "output_type": "stream",
     "text": [
      "Chi-square statistic: 9.350000000000001\n",
      "p-value: 0.09589216518362083\n"
     ]
    }
   ],
   "source": [
    "#2. Conduct a chi-square goodness of fit test to determine if the distribution of colors of M&Ms in a bag matches the expected distribution of 20% blue, 20% orange, 20% green, 10% yellow, 10% red, and 20% brown. Use Python to perform the test with a significance level of 0.05.\n",
    "\n",
    "#Ans\n",
    "\n",
    "import numpy as np\n",
    "from scipy.stats import chisquare\n",
    "\n",
    "# observed values\n",
    "observed_values = np.array([10, 25, 18, 12, 15, 20])\n",
    "\n",
    "# expected values\n",
    "expected_values = np.array([0.2, 0.2, 0.2, 0.1, 0.1, 0.2]) * sum(observed_values)\n",
    "\n",
    "# perform chi-square goodness of fit test\n",
    "chi2_statistic, p_value = chisquare(observed_values, expected_values)\n",
    "\n",
    "# print results\n",
    "print(\"Chi-square statistic:\", chi2_statistic)\n",
    "print(\"p-value:\", p_value)"
   ]
  },
  {
   "cell_type": "code",
   "execution_count": 13,
   "id": "0e32f0c9-79be-47b1-919d-92123dc0921c",
   "metadata": {},
   "outputs": [
    {
     "name": "stdout",
     "output_type": "stream",
     "text": [
      "Chi-square statistic: 5.833333333333334\n",
      "p-value: 0.05411376622282158\n"
     ]
    }
   ],
   "source": [
    "#3. Use Python to calculate the chi-square statistic and p-value for a contingency table with the following\n",
    "#data:\n",
    "             #GroupA   GroupB\n",
    "    #Outcome1   20       15\n",
    "    #Outcome2   10       25\n",
    "    #Outcome3   15       20\n",
    "    \n",
    "#Interpret the results of the test.\n",
    "\n",
    "#Ans\n",
    "\n",
    "import numpy as np\n",
    "from scipy.stats import chi2_contingency\n",
    "\n",
    "# contingency table\n",
    "observed_values = np.array([[20, 15],\n",
    "                            [10, 25],\n",
    "                            [15, 20]])\n",
    "\n",
    "# perform chi-square test\n",
    "chi2_statistic, p_value, degrees_of_freedom, expected_values = chi2_contingency(observed_values)\n",
    "\n",
    "# print results\n",
    "print(\"Chi-square statistic:\", chi2_statistic)\n",
    "print(\"p-value:\", p_value)\n",
    "\n",
    "#The chi-square statistic is 5.83 and the p-value is 0.054. Since the p-value is greater than the significance level of 0.05, we fail to reject the null hypothesis that there is no association between the outcome and the group. Therefore, we can conclude that there is not enough evidence to suggest that the outcome is associated with the group at a 5% level of significance."
   ]
  },
  {
   "cell_type": "code",
   "execution_count": 9,
   "id": "0c2a9acc-ce62-4fe5-b2c8-ad1978f39859",
   "metadata": {},
   "outputs": [
    {
     "name": "stdout",
     "output_type": "stream",
     "text": [
      "95% confidence interval: [0.0915, 0.1485]\n"
     ]
    }
   ],
   "source": [
    "#4. A study of the prevalence of smoking in a population of 500 individuals found that 60 individuals smoked. Use Python to calculate the 95% confidence interval for the true proportion of individuals in the population who smoke.\n",
    "\n",
    "#Ans\n",
    "\n",
    "import numpy as np\n",
    "from scipy.stats import norm\n",
    "\n",
    "# sample size\n",
    "n = 500\n",
    "\n",
    "# number of individuals who smoke\n",
    "x = 60\n",
    "\n",
    "# sample proportion\n",
    "p = x / n\n",
    "\n",
    "# confidence level\n",
    "confidence_level = 0.95\n",
    "\n",
    "# calculate the standard error\n",
    "standard_error = np.sqrt(p * (1 - p) / n)\n",
    "\n",
    "# calculate the margin of error\n",
    "margin_error = norm.ppf((1 + confidence_level) / 2) * standard_error\n",
    "\n",
    "# calculate the confidence interval\n",
    "lower_bound = p - margin_error\n",
    "upper_bound = p + margin_error\n",
    "\n",
    "# print results\n",
    "print(\"95% confidence interval: [{:.4f}, {:.4f}]\".format(lower_bound, upper_bound))"
   ]
  },
  {
   "cell_type": "code",
   "execution_count": 12,
   "id": "766cda8a-8048-4800-9f47-9f1c929c9edd",
   "metadata": {},
   "outputs": [
    {
     "name": "stdout",
     "output_type": "stream",
     "text": [
      "90% confidence interval: [73.0262, 76.9738]\n"
     ]
    }
   ],
   "source": [
    "#5. Calculate the 90% confidence interval for a sample of data with a mean of 75 and a standard deviation of 12 using Python. Interpret the results.\n",
    "\n",
    "#Ans\n",
    "\n",
    "import numpy as np\n",
    "from scipy.stats import norm\n",
    "\n",
    "# sample mean\n",
    "sample_mean = 75\n",
    "\n",
    "# sample standard deviation\n",
    "sample_std = 12\n",
    "\n",
    "# sample size\n",
    "n = 100\n",
    "\n",
    "# confidence level\n",
    "confidence_level = 0.90\n",
    "\n",
    "# calculate the confidence interval\n",
    "lower_bound, upper_bound = norm.interval(confidence_level, loc=sample_mean, scale=sample_std/np.sqrt(n))\n",
    "\n",
    "# print results\n",
    "print(\"90% confidence interval: [{:.4f}, {:.4f}]\".format(lower_bound, upper_bound))\n",
    "\n",
    "#Interpreting the results:\n",
    "\n",
    "#We can be 90% confident that the true population mean falls between 73.03 and 76.97 based on your sample data with a mean of 75 and a standard deviation of 12. This means that if we were to repeat the sampling process many times and calculate a 90% confidence interval each time, about 90% of those intervals would contain the true population mean."
   ]
  },
  {
   "cell_type": "code",
   "execution_count": 14,
   "id": "2acc361e-bf27-4a06-aec5-b1eaf0dc03d7",
   "metadata": {},
   "outputs": [
    {
     "data": {
      "image/png": "[encoded data removed]",
      "text/plain": [
       "<Figure size 640x480 with 1 Axes>"
      ]
     },
     "metadata": {},
     "output_type": "display_data"
    }
   ],
   "source": [
    "#6. Use Python to plot the chi-square distribution with 10 degrees of freedom. Label the axes and shade the area corresponding to a chi-square statistic of 15.\n",
    "\n",
    "#Ans\n",
    "\n",
    "import numpy as np\n",
    "import matplotlib.pyplot as plt\n",
    "from scipy.stats import chi2\n",
    "\n",
    "# degrees of freedom\n",
    "df = 10\n",
    "\n",
    "# generate x-values for the plot\n",
    "x = np.linspace(chi2.ppf(0.01, df), chi2.ppf(0.99, df), 100)\n",
    "\n",
    "# create the plot\n",
    "fig, ax = plt.subplots()\n",
    "ax.plot(x, chi2.pdf(x, df), 'b-', lw=2, alpha=0.6, label='chi2 pdf')\n",
    "\n",
    "# shade the area corresponding to a chi-square statistic of 15\n",
    "x_shade = np.linspace(chi2.ppf(0.01, df), 15, 100)\n",
    "ax.fill_between(x_shade, chi2.pdf(x_shade, df), 0, alpha=0.5, color='g')\n",
    "\n",
    "# add labels and title\n",
    "ax.set_xlabel('Chi-square statistic')\n",
    "ax.set_ylabel('Probability density')\n",
    "ax.set_title('Chi-square distribution with 10 degrees of freedom')\n",
    "\n",
    "# show the plot\n",
    "plt.show()"
   ]
  },
  {
   "cell_type": "code",
   "execution_count": 15,
   "id": "c6beb805-03b0-4bda-8f3a-65cf9897f0eb",
   "metadata": {},
   "outputs": [],
   "source": [
    "#7. A random sample of 1000 people was asked if they preferred Coke or Pepsi. Of the sample, 520 preferred Coke. Calculate a 99% confidence interval for the true proportion of people in the population who prefer Coke.\n",
    "\n",
    "#Ans\n",
    "\n",
    "#We can use the formula for a confidence interval for a population proportion:\n",
    "\n",
    "#CI = p ± z*sqrt(p*(1-p)/n)\n",
    "#where p is the sample proportion, n is the sample size, and z is the z-score corresponding to the desired confidence level. We can use the scipy.stats.norm module to find the z-score.\n",
    "\n",
    "#In this case, the sample proportion is 520/1000 = 0.52, the sample size is 1000, and the confidence level is 0.99. Therefore, the z-score is:\n",
    "\n",
    "#z = stats.norm.ppf((1 + 0.99) / 2) = 2.5758\n",
    "#Substituting these values into the formula, we get:\n",
    "\n",
    "#CI = 0.52 ± 2.5758*sqrt(0.52*(1-0.52)/1000)\n",
    "#   = 0.52 ± 0.0512\n",
    "   \n",
    "#Therefore, the 99% confidence interval for the true proportion of people in the population who prefer Coke is:\n",
    "\n",
    "#[0.4688, 0.5712]\n",
    "\n",
    "#Interpretation: We are 99% confident that the true proportion of people in the population who prefer Coke lies between 0.4688 and 0.5712."
   ]
  },
  {
   "cell_type": "code",
   "execution_count": 16,
   "id": "27c43cc2-e57d-41ba-be38-b599a71b20c9",
   "metadata": {},
   "outputs": [
    {
     "name": "stdout",
     "output_type": "stream",
     "text": [
      "Fail to reject the null hypothesis\n",
      "Test statistic: 1.0\n",
      "p-value: 0.31731050786291115\n"
     ]
    }
   ],
   "source": [
    "#8. A researcher hypothesizes that a coin is biased towards tails. They flip the coin 100 times and observe 45 tails. Conduct a chi-square goodness of fit test to determine if the observed frequencies match the expected frequencies of a fair coin. Use a significance level of 0.05.\n",
    "\n",
    "#Ans\n",
    "\n",
    "#For a goodness-of-fit test, we need to compare the observed frequencies with the expected frequencies under the null hypothesis of a fair coin. The null hypothesis is that the coin is fair, and the alternative hypothesis is that the coin is biased towards tails. Under the null hypothesis, the expected frequency of tails is 50, and the expected frequency of heads is also 50.\n",
    "\n",
    "#We can use a chi-square goodness-of-fit test to determine whether the observed frequencies are significantly different from the expected frequencies. The test statistic is calculated as:\n",
    "\n",
    "#X^2 = ∑(O - E)^2 / E\n",
    "#where O is the observed frequency and E is the expected frequency for each category. The sum is taken over all categories.\n",
    "\n",
    "#Under the null hypothesis, the test statistic follows a chi-square distribution with k - 1 degrees of freedom, where k is the number of categories. In this case, there are two categories (tails and heads), so we have one degree of freedom.\n",
    "\n",
    "import scipy.stats as stats\n",
    "\n",
    "# Set the significance level\n",
    "alpha = 0.05\n",
    "\n",
    "# Set the expected frequencies\n",
    "n = 100\n",
    "p = 0.5\n",
    "expected_freq = [p * n, (1 - p) * n]\n",
    "\n",
    "# Set the observed frequencies\n",
    "observed_freq = [45, 55]\n",
    "\n",
    "# Calculate the test statistic\n",
    "chi2, p_value = stats.chisquare(observed_freq, f_exp=expected_freq)\n",
    "\n",
    "# Compare the p-value with the significance level\n",
    "if p_value < alpha:\n",
    "    print(\"Reject the null hypothesis\")\n",
    "else:\n",
    "    print(\"Fail to reject the null hypothesis\")\n",
    "\n",
    "print(\"Test statistic:\", chi2)\n",
    "print(\"p-value:\", p_value)"
   ]
  },
  {
   "cell_type": "code",
   "execution_count": 17,
   "id": "2822a35d-854c-42bf-9969-47fbc34b0104",
   "metadata": {},
   "outputs": [
    {
     "name": "stdout",
     "output_type": "stream",
     "text": [
      "Chi-square statistic: 12.057347670250895\n",
      "p-value: 0.0005158863863703744\n"
     ]
    }
   ],
   "source": [
    "#9. A study was conducted to determine if there is an association between smoking status (smoker or non-smoker) and lung cancer diagnosis (yes or no). The results are shown in the contingency table below. Conduct a chi-square test for independence to determine if there is a significant association between smoking status and lung cancer diagnosis.\n",
    "\n",
    "           #Lung Cancer: Yes    Lung Cancer: No\n",
    "#Smoker           60                 140\n",
    "#Non-smoker       30                 170\n",
    "\n",
    "#Use a significance level of 0.05.\n",
    "\n",
    "#Ans\n",
    "\n",
    "import numpy as np\n",
    "from scipy.stats import chi2_contingency\n",
    "\n",
    "# create the contingency table\n",
    "observed = np.array([[60, 140], [30, 170]])\n",
    "\n",
    "# conduct the chi-square test\n",
    "chi2, p, dof, expected = chi2_contingency(observed)\n",
    "\n",
    "# print the results\n",
    "print(\"Chi-square statistic:\", chi2)\n",
    "print(\"p-value:\", p)"
   ]
  },
  {
   "cell_type": "code",
   "execution_count": 18,
   "id": "0748d36e-dba0-4954-b733-df4f70e2fb76",
   "metadata": {},
   "outputs": [
    {
     "name": "stdout",
     "output_type": "stream",
     "text": [
      "Chi-square test statistic: 13.393665158371041\n",
      "p-value: 0.00123481689977456\n",
      "Reject the null hypothesis\n"
     ]
    }
   ],
   "source": [
    "#10. A study was conducted to determine if the proportion of people who prefer milk chocolate, dark chocolate, or white chocolate is different in the U.S. versus the U.K. A random sample of 500 people from the U.S. and a random sample of 500 people from the U.K. were surveyed. The results are shown in the contingency table below. Conduct a chi-square test for independence to determine if there is a significant association between chocolate preference and country of origin.\n",
    "\n",
    "               #Milk Chocolate  Dark Chocolate  White Chocolate\n",
    "#U.S. (n=500)        200             150              150\n",
    "#U.K. (n=500)        225             175              100\n",
    "\n",
    "#Use a significance level of 0.01.\n",
    "\n",
    "#Ans\n",
    "\n",
    "import numpy as np\n",
    "from scipy.stats import chi2\n",
    "\n",
    "# create contingency table\n",
    "choc_country = np.array([[200, 150, 150], [225, 175, 100]])\n",
    "\n",
    "# calculate expected frequencies\n",
    "expected_freq = np.outer(choc_country.sum(axis=1), choc_country.sum(axis=0)) / choc_country.sum()\n",
    "\n",
    "# calculate chi-square test statistic\n",
    "chi2_stat = np.sum((choc_country - expected_freq)**2 / expected_freq)\n",
    "\n",
    "# calculate p-value\n",
    "p_value = 1 - chi2.cdf(chi2_stat, df=2)\n",
    "\n",
    "# print results\n",
    "print(\"Chi-square test statistic:\", chi2_stat)\n",
    "print(\"p-value:\", p_value)\n",
    "\n",
    "if p_value < 0.01:\n",
    "    print(\"Reject the null hypothesis\")\n",
    "else:\n",
    "    print(\"Fail to reject the null hypothesis\")"
   ]
  },
  {
   "cell_type": "code",
   "execution_count": 19,
   "id": "3685ad3f-b2a6-4cb6-8338-c559f6e90c25",
   "metadata": {},
   "outputs": [
    {
     "name": "stdout",
     "output_type": "stream",
     "text": [
      "t-value: 1.0954\n",
      "p-value: 0.2823\n",
      "95% confidence interval: [68.2659, 75.7341]\n"
     ]
    }
   ],
   "source": [
    "#11. A random sample of 30 people was selected from a population with an unknown mean and standard deviation. The sample mean was found to be 72 and the sample standard deviation was found to be 10. Conduct a hypothesis test to determine if the population mean is significantly different from 70. Use a significance level of 0.05.\n",
    "\n",
    "#Ans\n",
    "\n",
    "#We can use a one-sample t-test to test the hypothesis. The null hypothesis is that the population mean is equal to 70, and the alternative hypothesis is that the population mean is different from 70.\n",
    "\n",
    "#We can use the t-test formula to calculate the t-value:\n",
    "\n",
    "#t = (sample_mean - hypothesized_mean) / (sample_std / sqrt(sample_size))\n",
    "\n",
    "#where sample_mean = 72, hypothesized_mean = 70, sample_std = 10, and sample_size = 30.\n",
    "\n",
    "#Substituting the values, we get:\n",
    "\n",
    "#t = (72 - 70) / (10 / sqrt(30)) = 1.095\n",
    "\n",
    "#The degrees of freedom for the test is 30-1 = 29.\n",
    "\n",
    "#We can use the t-distribution with 29 degrees of freedom to find the p-value associated with the t-value. Using a significance level of 0.05 and a two-tailed test, we find the critical t-value to be ±2.045.\n",
    "\n",
    "#Since our calculated t-value of 1.095 falls within the acceptance region between -2.045 and 2.045, we fail to reject the null hypothesis. Therefore, we do not have enough evidence to suggest that the population mean is significantly different from 70 at the 0.05 significance level.\n",
    "\n",
    "#We can perform the test using Python as follows:\n",
    "\n",
    "import numpy as np\n",
    "from scipy.stats import t\n",
    "\n",
    "sample_mean = 72\n",
    "hypothesized_mean = 70\n",
    "sample_std = 10\n",
    "sample_size = 30\n",
    "confidence_level = 0.95\n",
    "\n",
    "# calculate the t-value and p-value\n",
    "t_value = (sample_mean - hypothesized_mean) / (sample_std / np.sqrt(sample_size))\n",
    "p_value = 2 * (1 - t.cdf(abs(t_value), df=sample_size-1))\n",
    "\n",
    "# calculate the confidence interval\n",
    "standard_error = sample_std / np.sqrt(sample_size)\n",
    "margin_of_error = t.ppf(1 - ((1 - confidence_level) / 2), df=sample_size-1) * standard_error\n",
    "lower_bound = sample_mean - margin_of_error\n",
    "upper_bound = sample_mean + margin_of_error\n",
    "\n",
    "# print results\n",
    "print(\"t-value: {:.4f}\".format(t_value))\n",
    "print(\"p-value: {:.4f}\".format(p_value))\n",
    "print(\"95% confidence interval: [{:.4f}, {:.4f}]\".format(lower_bound, upper_bound))"
   ]
  },
  {
   "cell_type": "code",
   "execution_count": null,
   "id": "a82d5876-4ef4-4bcc-9de1-21e3dcf9c7b8",
   "metadata": {},
   "outputs": [],
   "source": []
  }
 ],
 "metadata": {
  "kernelspec": {
   "display_name": "Python 3 (ipykernel)",
   "language": "python",
   "name": "python3"
  },
  "language_info": {
   "codemirror_mode": {
    "name": "ipython",
    "version": 3
   },
   "file_extension": ".py",
   "mimetype": "text/x-python",
   "name": "python",
   "nbconvert_exporter": "python",
   "pygments_lexer": "ipython3",
   "version": "3.10.8"
  }
 },
 "nbformat": 4,
 "nbformat_minor": 5
}
